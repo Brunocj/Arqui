{
 "cells": [
  {
   "cell_type": "code",
   "execution_count": 2,
   "metadata": {},
   "outputs": [],
   "source": [
    "def py_slow_cos(x,N):\n",
    "    cos = 0\n",
    "    for i in range(0,N):\n",
    "        fact = 1\n",
    "        for j in range(1,2*i+1 ):\n",
    "            fact = fact*j\n",
    "        cos = cos + ((-1)**i)*(x**(2*i))/fact\n",
    "    return cos"
   ]
  },
  {
   "cell_type": "code",
   "execution_count": 3,
   "metadata": {},
   "outputs": [],
   "source": [
    "def py_fast_cos(x, n_terms):\n",
    "    res = 0\n",
    "    tn = 1\n",
    "    for n in range(n_terms):\n",
    "        res = res + tn\n",
    "        tn = (-1)*tn*(x**2)/((2*n + 1)*(2*n + 2))\n",
    "    return res"
   ]
  },
  {
   "cell_type": "code",
   "execution_count": 4,
   "metadata": {},
   "outputs": [
    {
     "name": "stdout",
     "output_type": "stream",
     "text": [
      "Prueba fast:  -0.9899924966004455\n",
      "Prueba slow:  -0.9899924966004455\n"
     ]
    }
   ],
   "source": [
    "#prueba funcionamiento\n",
    "print(\"Prueba fast: \",py_fast_cos(3,1000))\n",
    "print(\"Prueba slow: \",py_slow_cos(3,1000))"
   ]
  },
  {
   "cell_type": "code",
   "execution_count": 22,
   "metadata": {},
   "outputs": [
    {
     "name": "stdout",
     "output_type": "stream",
     "text": [
      "Overwriting cos_fast.c\n"
     ]
    }
   ],
   "source": [
    "%%file cos_fast.c\n",
    "double cos_fast_1(double x, int terms){\n",
    "    double res;\n",
    "    double tn;\n",
    "    for (int n = 0; n < terms; n++)\n",
    "    {\n",
    "    res = res+tn;\n",
    "    tn = (-1)*tn*(x*x)/((2*n+1)*(2*n+2));\n",
    "    }\n",
    "    return res;\n",
    "}\n",
    "\n",
    "double long cos_fast_2(long double x, int terms){\n",
    "    long double res;\n",
    "    long double tn;\n",
    "    for (int n = 0; n < terms; n++)\n",
    "    {\n",
    "    res = res+tn;\n",
    "    tn = (-1)*tn*(x*x)/((2*n+1)*(2*n+2));\n",
    "    }\n",
    "    return res;\n",
    "}"
   ]
  },
  {
   "cell_type": "code",
   "execution_count": 23,
   "metadata": {},
   "outputs": [],
   "source": [
    "! gcc -c cos_fast.c -o cos_fast.o"
   ]
  },
  {
   "cell_type": "code",
   "execution_count": 24,
   "metadata": {},
   "outputs": [],
   "source": [
    "! gcc -shared cos_fast.o -o cos_fast.so"
   ]
  },
  {
   "cell_type": "code",
   "execution_count": 27,
   "metadata": {},
   "outputs": [],
   "source": [
    "import numpy as np\n",
    "import time\n",
    "import statistics\n",
    "import matplotlib.pyplot as plt\n",
    "import ctypes"
   ]
  },
  {
   "cell_type": "code",
   "execution_count": 26,
   "metadata": {},
   "outputs": [],
   "source": [
    "def config_funciones():\n",
    "    lib = ctypes.CDLL(\"./cos_fast.so\")\n",
    "    lib.cos_fast_1.argtypes = [ctypes.c_double,ctypes.c_int]\n",
    "    lib.cos_fast_1.restype = ctypes.c_double\n",
    "    lib.cos_fast_2.argtypes = [ctypes.c_longdouble,ctypes.c_int]\n",
    "    lib.cos_fast_2.restype = ctypes.c_longdouble\n",
    "    return lib.cos_fast_1, lib.cos_fast_2"
   ]
  },
  {
   "cell_type": "code",
   "execution_count": 28,
   "metadata": {},
   "outputs": [],
   "source": [
    "cos_fast_1, cos_fast_2 = config_funciones()"
   ]
  },
  {
   "cell_type": "code",
   "execution_count": null,
   "metadata": {},
   "outputs": [],
   "source": []
  },
  {
   "cell_type": "code",
   "execution_count": null,
   "metadata": {},
   "outputs": [],
   "source": [
    "def encontrar_n_terms(f, inf, sup, n_angs, pre):\n",
    "    \n",
    "    return cant_terminos"
   ]
  }
 ],
 "metadata": {
  "kernelspec": {
   "display_name": "Python 3",
   "language": "python",
   "name": "python3"
  },
  "language_info": {
   "codemirror_mode": {
    "name": "ipython",
    "version": 3
   },
   "file_extension": ".py",
   "mimetype": "text/x-python",
   "name": "python",
   "nbconvert_exporter": "python",
   "pygments_lexer": "ipython3",
   "version": "3.11.4"
  },
  "orig_nbformat": 4
 },
 "nbformat": 4,
 "nbformat_minor": 2
}
